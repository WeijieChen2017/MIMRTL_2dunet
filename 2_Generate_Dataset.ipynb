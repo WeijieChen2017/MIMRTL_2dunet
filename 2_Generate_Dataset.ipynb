{
 "cells": [
  {
   "cell_type": "code",
   "execution_count": 6,
   "metadata": {},
   "outputs": [],
   "source": [
    "import os\n",
    "import glob\n",
    "import cv2\n",
    "import nibabel as nib\n",
    "import matplotlib.pyplot as plt\n",
    "import numpy as np\n",
    "from scipy.ndimage import zoom\n",
    "\n",
    "from PIL import Image"
   ]
  },
  {
   "cell_type": "code",
   "execution_count": 7,
   "metadata": {},
   "outputs": [],
   "source": [
    "def maxmin_norm(data):\n",
    "    MAX = np.amax(data)\n",
    "    MIN = np.amin(data)\n",
    "    data = (data - MIN)/(MAX-MIN)\n",
    "    return data"
   ]
  },
  {
   "cell_type": "code",
   "execution_count": 33,
   "metadata": {},
   "outputs": [
    {
     "name": "stdout",
     "output_type": "stream",
     "text": [
      "[[0. 0. 0. 0. 0.]\n",
      " [0. 0. 0. 0. 0.]\n",
      " [0. 0. 0. 0. 0.]\n",
      " [0. 0. 0. 0. 0.]\n",
      " [0. 0. 0. 0. 0.]\n",
      " [0. 0. 0. 0. 0.]\n",
      " [0. 0. 0. 0. 0.]\n",
      " [0. 0. 0. 0. 0.]\n",
      " [0. 0. 0. 0. 0.]\n",
      " [0. 0. 0. 0. 0.]]\n",
      "[[0. 0. 0. 1. 2.]\n",
      " [0. 0. 1. 2. 3.]\n",
      " [0. 1. 2. 3. 4.]\n",
      " [1. 2. 3. 4. 5.]\n",
      " [2. 3. 4. 5. 6.]\n",
      " [3. 4. 5. 6. 7.]\n",
      " [4. 5. 6. 7. 8.]\n",
      " [5. 6. 7. 8. 9.]\n",
      " [6. 7. 8. 9. 9.]\n",
      " [7. 8. 9. 9. 9.]]\n"
     ]
    }
   ],
   "source": [
    "import numpy as np\n",
    "\n",
    "z = 10\n",
    "n_slice = 5\n",
    "index = np.zeros((z, n_slice))\n",
    "print(index)\n",
    "\n",
    "for idx_z in range(z):\n",
    "    for idx_c in range(n_slice):\n",
    "        index[idx_z, idx_c] = idx_z-(n_slice-idx_c+1)+n_slice//2+2\n",
    "index[index<0]=0\n",
    "index[index>z-1]=z-1\n",
    "print(index)"
   ]
  },
  {
   "cell_type": "code",
   "execution_count": null,
   "metadata": {},
   "outputs": [],
   "source": [
    "def create_index(dataA, n_slice):\n",
    "    h, w, z = dataA.shape\n",
    "    index = np.zeros((z,n_slice))\n",
    "    \n",
    "    for idx_z in range(z):\n",
    "        for idx_c in range(n_slice):\n",
    "            index[idx_z, idx_c] = idx_z-(n_slice-idx_c+1)+n_slice//2+2\n",
    "    index[index<0]=0\n",
    "    index[index>z-1]=z-1\n",
    "    return index"
   ]
  },
  {
   "cell_type": "code",
   "execution_count": null,
   "metadata": {},
   "outputs": [],
   "source": [
    "def slice5(dataA, dataB, name_dataset, n_slice=1, name_tag=\"\", resize_f=1):\n",
    "    # shape supposed to be 512*512*284 by default\n",
    "    assert dataA.shape == dataB.shape, (\"DataA should share the same shape with DataB.\")\n",
    "    path2save = \"./pytorch-CycleGAN-and-pix2pix/datasets/\"+name_dataset+\"/train/\"\n",
    "    h, w, z = dataA.shape\n",
    "    h = h*resize_f\n",
    "    w = w*resize_f\n",
    "    img = np.zeros((n_slice, h, w*2))\n",
    "    index = create_index(dataA, n_slice)\n",
    "        \n",
    "    for idx_z in range(z):\n",
    "        for idx_c in range(n_slice):\n",
    "            img[idx_c, :, :w] = zoom(dataA[:, :, index(idx_z, idx_c)], zoom=resize_f)\n",
    "            img[idx_c, :, w:] = zoom(dataB[:, :, index(idx_z, idx_c)], zoom=resize_f)\n",
    "        name2save = path2save+name_tag+\"_\"+str(idx_z)+\".npy\"\n",
    "        np.save(name2save, img)\n",
    "    print(str(c)+\" images have been saved.\")"
   ]
  },
  {
   "cell_type": "code",
   "execution_count": 8,
   "metadata": {},
   "outputs": [],
   "source": [
    "def SpotTheDifference_Generator(dataA, dataB, name_dataset, n_slice=1, name_tag=\"\", resize_f=1):\n",
    "    # shape supposed to be 512*512*284 by default\n",
    "    assert dataA.shape == dataB.shape, (\"DataA should share the same shape with DataB.\")\n",
    "    path2save = \"./pytorch-CycleGAN-and-pix2pix/datasets/\"+name_dataset+\"/train/\"\n",
    "    h, w, c = dataA.shape\n",
    "    h = h*resize_f\n",
    "    w = w*resize_f\n",
    "    img = np.zeros((n_slice, h, w*2))\n",
    "        \n",
    "    if n_slice == 1:\n",
    "        for idx in range(c):\n",
    "            img[:, :, :w] = zoom(dataA[:, :, idx], zoom=resize_f)\n",
    "            img[:, :, w:] = zoom(dataB[:, :, idx], zoom=resize_f)\n",
    "            name2save = path2save+name_tag+\"_\"+str(idx)+\".npy\"\n",
    "            np.save(name2save, img)\n",
    "        print(str(c)+\" images have been saved.\")\n",
    "    else:\n",
    "        for idx in range(c):\n",
    "            if idx == 0:\n",
    "                img[0, :, :w] = zoom(dataA[:, :, 0], zoom=resize_f)\n",
    "                img[1, :, :w] = zoom(dataA[:, :, 0], zoom=resize_f)\n",
    "                img[2, :, :w] = zoom(dataA[:, :, 1], zoom=resize_f)\n",
    "                \n",
    "                img[0, :, w:] = zoom(dataB[:, :, 0], zoom=resize_f)\n",
    "                img[1, :, w:] = zoom(dataB[:, :, 0], zoom=resize_f)\n",
    "                img[2, :, w:] = zoom(dataB[:, :, 1], zoom=resize_f)\n",
    "            else:\n",
    "                if idx == c-1:\n",
    "                    img[0, :, :w] = zoom(dataA[:, :, c-2], zoom=resize_f)\n",
    "                    img[1, :, :w] = zoom(dataA[:, :, c-1], zoom=resize_f)\n",
    "                    img[2, :, :w] = zoom(dataA[:, :, c-1], zoom=resize_f)\n",
    "                    \n",
    "                    img[0, :, w:] = zoom(dataB[:, :, c-2], zoom=resize_f)\n",
    "                    img[1, :, w:] = zoom(dataB[:, :, c-1], zoom=resize_f)\n",
    "                    img[2, :, w:] = zoom(dataB[:, :, c-1], zoom=resize_f)\n",
    "                else:\n",
    "                    img[0, :, :w] = zoom(dataA[:, :, idx-1], zoom=resize_f)\n",
    "                    img[1, :, :w] = zoom(dataA[:, :, idx], zoom=resize_f)\n",
    "                    img[2, :, :w] = zoom(dataA[:, :, idx+1], zoom=resize_f)\n",
    "                    \n",
    "                    img[0, :, w:] = zoom(dataB[:, :, idx-1], zoom=resize_f)\n",
    "                    img[1, :, w:] = zoom(dataB[:, :, idx], zoom=resize_f)\n",
    "                    img[2, :, w:] = zoom(dataB[:, :, idx+1], zoom=resize_f)\n",
    "            name2save = path2save+name_tag+\"_\"+str(idx)+\".npy\"\n",
    "            np.save(name2save, img)\n",
    "        print(str(c)+\" images have been saved.\")"
   ]
  },
  {
   "cell_type": "code",
   "execution_count": 16,
   "metadata": {},
   "outputs": [],
   "source": [
    "def SingleImage_Generator(dataA, name_dataset, n_slice=1, name_tag=\"\", resize_f=1):\n",
    "    # shape supposed to be 512*512*284 by default\n",
    "    path2save = \"./pytorch-CycleGAN-and-pix2pix/datasets/\"+name_dataset+\"/test/\"\n",
    "    h, w, c = dataA.shape\n",
    "    h = h*resize_f\n",
    "    w = w*resize_f\n",
    "    img = np.zeros((n_slice, h, w))\n",
    "        \n",
    "    if n_slice == 1:\n",
    "        for idx in range(c):\n",
    "            img[:, :, :] = zoom(dataA[:, :, idx], zoom=resize_f)\n",
    "#             img = np.asarray(img, dtype=np.float())\n",
    "            name2save = path2save+name_tag+\"_\"+str(idx)+\".npy\"\n",
    "            np.save(name2save, img)\n",
    "        print(str(c)+\" images have been saved.\")\n",
    "    else:\n",
    "        for idx in range(c):\n",
    "            if idx == 0:\n",
    "                img[0, :, :] = zoom(dataA[:, :, 0], zoom=resize_f)\n",
    "                img[1, :, :] = zoom(dataA[:, :, 0], zoom=resize_f)\n",
    "                img[2, :, :] = zoom(dataA[:, :, 1], zoom=resize_f)\n",
    "            else:\n",
    "                if idx == c-1:\n",
    "                    img[0, :, :] = zoom(dataA[:, :, c-2], zoom=resize_f)\n",
    "                    img[1, :, :] = zoom(dataA[:, :, c-1], zoom=resize_f)\n",
    "                    img[2, :, :] = zoom(dataA[:, :, c-1], zoom=resize_f)\n",
    "                else:\n",
    "                    img[0, :, :] = zoom(dataA[:, :, idx-1], zoom=resize_f)\n",
    "                    img[1, :, :] = zoom(dataA[:, :, idx], zoom=resize_f)\n",
    "                    img[2, :, :] = zoom(dataA[:, :, idx+1], zoom=resize_f)\n",
    "            name2save = path2save+name_tag+\"_\"+str(idx)+\".npy\"\n",
    "#             img = np.asarray(img, dtype=np.float())\n",
    "            np.save(name2save, img)\n",
    "        print(str(c)+\" images have been saved.\")"
   ]
  },
  {
   "cell_type": "code",
   "execution_count": 17,
   "metadata": {},
   "outputs": [],
   "source": [
    "name_dataset = \"pet_test\"\n",
    "n_slice = 3\n",
    "\n",
    "import os\n",
    "\n",
    "for folder_name in [\"train\", \"test\", \"trainA\", \"trainB\", \"testA\", \"testB\"]:\n",
    "    path = \"./pytorch-CycleGAN-and-pix2pix/datasets/\"+name_dataset+\"/\"+folder_name+\"/\"\n",
    "    if not os.path.exists(path):\n",
    "        os.makedirs(path)"
   ]
  },
  {
   "cell_type": "markdown",
   "metadata": {},
   "source": [
    "## test dataset of UNET"
   ]
  },
  {
   "cell_type": "code",
   "execution_count": 18,
   "metadata": {
    "scrolled": true
   },
   "outputs": [
    {
     "name": "stdout",
     "output_type": "stream",
     "text": [
      "Test:\n",
      "subj01_pet\n",
      "284 images have been saved.\n",
      "------------------------------------------------------------------------\n"
     ]
    }
   ],
   "source": [
    "list_ori = glob.glob(\"./data/\"+name_dataset+\"/test/*.nii\")\n",
    "list_ori.sort()\n",
    "print(\"Test:\")\n",
    "for path_ori in list_ori:\n",
    "    filename_ori = os.path.basename(path_ori)[:]\n",
    "    filename_ori = filename_ori[:filename_ori.find(\".\")]\n",
    "    print(filename_ori)\n",
    "    data_ori = maxmin_norm(nib.load(path_ori).get_fdata())\n",
    "    SingleImage_Generator(dataA=data_ori, name_dataset=name_dataset, n_slice=n_slice, name_tag=filename_ori,\n",
    "                          resize_f = 2)\n",
    "    print(\"------------------------------------------------------------------------\")"
   ]
  },
  {
   "cell_type": "markdown",
   "metadata": {},
   "source": [
    "## training dataset  of UNET"
   ]
  },
  {
   "cell_type": "code",
   "execution_count": 31,
   "metadata": {},
   "outputs": [
    {
     "name": "stdout",
     "output_type": "stream",
     "text": [
      "TrainA:\n",
      "subj01_inv\n",
      "Pairs\n",
      "A: subj01_inv\n",
      "B: fwhm_8_subj01_inv\n",
      "284 images have been saved.\n",
      "Pairs\n",
      "A: subj01_inv\n",
      "B: fwhm_8_subj01_inv_gs_1e-02\n",
      "284 images have been saved.\n",
      "Pairs\n",
      "A: subj01_inv\n",
      "B: fwhm_8_subj01_inv_gs_3e-02\n"
     ]
    },
    {
     "ename": "KeyboardInterrupt",
     "evalue": "",
     "output_type": "error",
     "traceback": [
      "\u001b[0;31m---------------------------------------------------------------------------\u001b[0m",
      "\u001b[0;31mKeyboardInterrupt\u001b[0m                         Traceback (most recent call last)",
      "\u001b[0;32m<ipython-input-31-23e662cbb183>\u001b[0m in \u001b[0;36m<module>\u001b[0;34m\u001b[0m\n\u001b[1;32m     21\u001b[0m         SpotTheDifference_Generator(dataA=data_ori, dataB=data_sim,\n\u001b[1;32m     22\u001b[0m                                     \u001b[0mname_dataset\u001b[0m\u001b[0;34m=\u001b[0m\u001b[0mname_dataset\u001b[0m\u001b[0;34m,\u001b[0m \u001b[0mn_slice\u001b[0m\u001b[0;34m=\u001b[0m\u001b[0mn_slice\u001b[0m\u001b[0;34m,\u001b[0m\u001b[0;34m\u001b[0m\u001b[0;34m\u001b[0m\u001b[0m\n\u001b[0;32m---> 23\u001b[0;31m                                     name_tag=filename_sim, resize_f=2)\n\u001b[0m\u001b[1;32m     24\u001b[0m \u001b[0;34m\u001b[0m\u001b[0m\n\u001b[1;32m     25\u001b[0m     \u001b[0mprint\u001b[0m\u001b[0;34m(\u001b[0m\u001b[0;34m\"------------------------------------------------------------------------\"\u001b[0m\u001b[0;34m)\u001b[0m\u001b[0;34m\u001b[0m\u001b[0;34m\u001b[0m\u001b[0m\n",
      "\u001b[0;32m<ipython-input-26-ff318eb624df>\u001b[0m in \u001b[0;36mSpotTheDifference_Generator\u001b[0;34m(dataA, dataB, name_dataset, n_slice, name_tag, resize_f)\u001b[0m\n\u001b[1;32m     43\u001b[0m                     \u001b[0mimg\u001b[0m\u001b[0;34m[\u001b[0m\u001b[0;36m2\u001b[0m\u001b[0;34m,\u001b[0m \u001b[0;34m:\u001b[0m\u001b[0;34m,\u001b[0m \u001b[0mw\u001b[0m\u001b[0;34m:\u001b[0m\u001b[0;34m]\u001b[0m \u001b[0;34m=\u001b[0m \u001b[0mzoom\u001b[0m\u001b[0;34m(\u001b[0m\u001b[0mdataB\u001b[0m\u001b[0;34m[\u001b[0m\u001b[0;34m:\u001b[0m\u001b[0;34m,\u001b[0m \u001b[0;34m:\u001b[0m\u001b[0;34m,\u001b[0m \u001b[0midx\u001b[0m\u001b[0;34m+\u001b[0m\u001b[0;36m1\u001b[0m\u001b[0;34m]\u001b[0m\u001b[0;34m,\u001b[0m \u001b[0mzoom\u001b[0m\u001b[0;34m=\u001b[0m\u001b[0mresize_f\u001b[0m\u001b[0;34m)\u001b[0m\u001b[0;34m\u001b[0m\u001b[0;34m\u001b[0m\u001b[0m\n\u001b[1;32m     44\u001b[0m             \u001b[0mname2save\u001b[0m \u001b[0;34m=\u001b[0m \u001b[0mpath2save\u001b[0m\u001b[0;34m+\u001b[0m\u001b[0mname_tag\u001b[0m\u001b[0;34m+\u001b[0m\u001b[0;34m\"_\"\u001b[0m\u001b[0;34m+\u001b[0m\u001b[0mstr\u001b[0m\u001b[0;34m(\u001b[0m\u001b[0midx\u001b[0m\u001b[0;34m)\u001b[0m\u001b[0;34m+\u001b[0m\u001b[0;34m\".npy\"\u001b[0m\u001b[0;34m\u001b[0m\u001b[0;34m\u001b[0m\u001b[0m\n\u001b[0;32m---> 45\u001b[0;31m             \u001b[0mnp\u001b[0m\u001b[0;34m.\u001b[0m\u001b[0msave\u001b[0m\u001b[0;34m(\u001b[0m\u001b[0mname2save\u001b[0m\u001b[0;34m,\u001b[0m \u001b[0mimg\u001b[0m\u001b[0;34m)\u001b[0m\u001b[0;34m\u001b[0m\u001b[0;34m\u001b[0m\u001b[0m\n\u001b[0m\u001b[1;32m     46\u001b[0m         \u001b[0mprint\u001b[0m\u001b[0;34m(\u001b[0m\u001b[0mstr\u001b[0m\u001b[0;34m(\u001b[0m\u001b[0mc\u001b[0m\u001b[0;34m)\u001b[0m\u001b[0;34m+\u001b[0m\u001b[0;34m\" images have been saved.\"\u001b[0m\u001b[0;34m)\u001b[0m\u001b[0;34m\u001b[0m\u001b[0;34m\u001b[0m\u001b[0m\n",
      "\u001b[0;32m<__array_function__ internals>\u001b[0m in \u001b[0;36msave\u001b[0;34m(*args, **kwargs)\u001b[0m\n",
      "\u001b[0;32m/data/users/wchen/anaconda3/envs/pytorch/lib/python3.7/site-packages/numpy/lib/npyio.py\u001b[0m in \u001b[0;36msave\u001b[0;34m(file, arr, allow_pickle, fix_imports)\u001b[0m\n\u001b[1;32m    540\u001b[0m         \u001b[0marr\u001b[0m \u001b[0;34m=\u001b[0m \u001b[0mnp\u001b[0m\u001b[0;34m.\u001b[0m\u001b[0masanyarray\u001b[0m\u001b[0;34m(\u001b[0m\u001b[0marr\u001b[0m\u001b[0;34m)\u001b[0m\u001b[0;34m\u001b[0m\u001b[0;34m\u001b[0m\u001b[0m\n\u001b[1;32m    541\u001b[0m         format.write_array(fid, arr, allow_pickle=allow_pickle,\n\u001b[0;32m--> 542\u001b[0;31m                            pickle_kwargs=pickle_kwargs)\n\u001b[0m\u001b[1;32m    543\u001b[0m     \u001b[0;32mfinally\u001b[0m\u001b[0;34m:\u001b[0m\u001b[0;34m\u001b[0m\u001b[0;34m\u001b[0m\u001b[0m\n\u001b[1;32m    544\u001b[0m         \u001b[0;32mif\u001b[0m \u001b[0mown_fid\u001b[0m\u001b[0;34m:\u001b[0m\u001b[0;34m\u001b[0m\u001b[0;34m\u001b[0m\u001b[0m\n",
      "\u001b[0;32m/data/users/wchen/anaconda3/envs/pytorch/lib/python3.7/site-packages/numpy/lib/format.py\u001b[0m in \u001b[0;36mwrite_array\u001b[0;34m(fp, array, version, allow_pickle, pickle_kwargs)\u001b[0m\n\u001b[1;32m    668\u001b[0m     \u001b[0;32melse\u001b[0m\u001b[0;34m:\u001b[0m\u001b[0;34m\u001b[0m\u001b[0;34m\u001b[0m\u001b[0m\n\u001b[1;32m    669\u001b[0m         \u001b[0;32mif\u001b[0m \u001b[0misfileobj\u001b[0m\u001b[0;34m(\u001b[0m\u001b[0mfp\u001b[0m\u001b[0;34m)\u001b[0m\u001b[0;34m:\u001b[0m\u001b[0;34m\u001b[0m\u001b[0;34m\u001b[0m\u001b[0m\n\u001b[0;32m--> 670\u001b[0;31m             \u001b[0marray\u001b[0m\u001b[0;34m.\u001b[0m\u001b[0mtofile\u001b[0m\u001b[0;34m(\u001b[0m\u001b[0mfp\u001b[0m\u001b[0;34m)\u001b[0m\u001b[0;34m\u001b[0m\u001b[0;34m\u001b[0m\u001b[0m\n\u001b[0m\u001b[1;32m    671\u001b[0m         \u001b[0;32melse\u001b[0m\u001b[0;34m:\u001b[0m\u001b[0;34m\u001b[0m\u001b[0;34m\u001b[0m\u001b[0m\n\u001b[1;32m    672\u001b[0m             for chunk in numpy.nditer(\n",
      "\u001b[0;31mKeyboardInterrupt\u001b[0m: "
     ]
    }
   ],
   "source": [
    "list_ori = glob.glob(\"./data/\"+name_dataset+\"/pure/*.nii\")\n",
    "list_ori.sort()\n",
    "for path_ori in list_ori:\n",
    "    print(\"TrainA:\")\n",
    "    filename_ori = os.path.basename(path_ori)[:]\n",
    "    filename_ori = filename_ori[:filename_ori.find(\".\")]\n",
    "    print(filename_ori)\n",
    "    data_ori = maxmin_norm(nib.load(path_ori).get_fdata())\n",
    "    \n",
    "    list_sim = glob.glob(\"./data/\"+name_dataset+\"/blur/*\"+filename_ori+\"*.nii\")\n",
    "    list_sim.sort()\n",
    "    \n",
    "    for path_sim in list_sim:\n",
    "        print(\"Pairs\")\n",
    "        filename_sim = os.path.basename(path_sim)[:]\n",
    "        filename_sim = filename_sim[:filename_sim.find(\".\")]\n",
    "        print(\"A:\", filename_ori)\n",
    "        print(\"B:\", filename_sim)\n",
    "                \n",
    "        data_sim = maxmin_norm(nib.load(path_sim).get_fdata())\n",
    "        SpotTheDifference_Generator(dataA=data_ori, dataB=data_sim,\n",
    "                                    name_dataset=name_dataset, n_slice=n_slice, \n",
    "                                    name_tag=filename_sim, resize_f=2)\n",
    "        \n",
    "    print(\"------------------------------------------------------------------------\")\n",
    "        \n",
    "        \n",
    "        \n",
    "#         data_ori = nib.load(path_ori).get_fdata()\n",
    "#         norm_ori = maxmin_norm(data_ori)*255\n",
    "#         sliced_save(data=norm_ori,\n",
    "#                     name_tag=os.path.basename(path_ori)[:-4],\n",
    "#                     path2save=\"./pytorch-CycleGAN-and-pix2pix/datasets/\"+name_dataset+\"/\"+folder_name+\"/\",\n",
    "#                     n_slice=n_slice)"
   ]
  },
  {
   "cell_type": "markdown",
   "metadata": {},
   "source": [
    "## training dataset of cycleGAN"
   ]
  },
  {
   "cell_type": "code",
   "execution_count": 6,
   "metadata": {},
   "outputs": [],
   "source": [
    "def cycleGAN_generator(dataA, dataB, name_dataset, n_slice=1, name_tag=\"\"):\n",
    "    # shape supposed to be 512*512*284 by default\n",
    "    assert dataA.shape == dataB.shape, (\"DataA should share the same shape with DataB.\")\n",
    "    path2saveA = \"./pytorch-CycleGAN-and-pix2pix/datasets/\"+name_dataset+\"/trainA/\"\n",
    "    path2saveB = \"./pytorch-CycleGAN-and-pix2pix/datasets/\"+name_dataset+\"/trainB/\"\n",
    "    h, w, z = dataA.shape\n",
    "    imgA = np.zeros((n_slice, h, w))\n",
    "    imgB = np.zeros((n_slice, h, w))\n",
    "    \n",
    "    if n_slice == 1:\n",
    "        for idx in range(z):\n",
    "            imgA[0, :, :] = dataA[:, :, idx]\n",
    "            imgB[0, :, :] = dataB[:, :, idx]\n",
    "            name2saveA = path2saveA+name_tag+\"_\"+str(idx)+\".npy\"\n",
    "            name2saveB = path2saveB+name_tag+\"_\"+str(idx)+\".npy\"\n",
    "            np.save(name2saveA, imgA)\n",
    "            np.save(name2saveB, imgB)\n",
    "        print(str(z)+\" images have been saved.\")\n",
    "    else:\n",
    "        for idx in range(z):\n",
    "            if idx == 0:\n",
    "                imgA[0, :, :] = dataA[:, :, 0]\n",
    "                imgA[1, :, :] = dataA[:, :, 0]\n",
    "                imgA[2, :, :] = dataA[:, :, 1]\n",
    "                \n",
    "                imgB[0, :, :] = dataB[:, :, 0]\n",
    "                imgB[1, :, :] = dataB[:, :, 0]\n",
    "                imgB[2, :, :] = dataB[:, :, 1]\n",
    "            else:\n",
    "                if idx == z-1:\n",
    "                    imgA[0, :, :] = dataA[:, :, z-2]\n",
    "                    imgA[1, :, :] = dataA[:, :, z-1]\n",
    "                    imgA[2, :, :] = dataA[:, :, z-1]\n",
    "                    \n",
    "                    imgB[0, :, :] = dataB[:, :, z-2]\n",
    "                    imgB[1, :, :] = dataB[:, :, z-1]\n",
    "                    imgB[2, :, :] = dataB[:, :, z-1]\n",
    "                else:\n",
    "                    imgA[0, :, :] = dataA[:, :, idx-1]\n",
    "                    imgA[1, :, :] = dataA[:, :, idx]\n",
    "                    imgA[2, :, :] = dataA[:, :, idx+1]\n",
    "                    \n",
    "                    imgB[0, :, :] = dataB[:, :, idx-1]\n",
    "                    imgB[1, :, :] = dataB[:, :, idx]\n",
    "                    imgB[2, :, :] = dataB[:, :, idx+1]\n",
    "            name2saveA = path2saveA+name_tag+\"_\"+str(idx)+\".npy\"\n",
    "            name2saveB = path2saveB+name_tag+\"_\"+str(idx)+\".npy\"\n",
    "            np.save(name2saveA, imgA)\n",
    "            np.save(name2saveB, imgB)\n",
    "        print(str(z)+\" images have been saved.\")"
   ]
  },
  {
   "cell_type": "code",
   "execution_count": 7,
   "metadata": {},
   "outputs": [
    {
     "name": "stdout",
     "output_type": "stream",
     "text": [
      "TrainA:\n",
      "subj01_inv\n",
      "Pairs\n",
      "A: subj01_inv\n",
      "B: fwhm_8_subj01_inv\n",
      "284 images have been saved.\n",
      "Pairs\n",
      "A: subj01_inv\n",
      "B: fwhm_8_subj01_inv_radon\n",
      "284 images have been saved.\n",
      "------------------------------------------------------------------------\n"
     ]
    }
   ],
   "source": [
    "list_ori = glob.glob(\"./data/\"+name_dataset+\"/pure/*.nii\")\n",
    "list_ori.sort()\n",
    "for path_ori in list_ori:\n",
    "    print(\"TrainA:\")\n",
    "    filename_ori = os.path.basename(path_ori)[:]\n",
    "    filename_ori = filename_ori[:filename_ori.find(\".\")]\n",
    "    print(filename_ori)\n",
    "    data_ori = maxmin_norm(nib.load(path_ori).get_fdata())\n",
    "    \n",
    "    list_sim = glob.glob(\"./data/\"+name_dataset+\"/blur/*\"+filename_ori+\"*.nii\")\n",
    "    list_sim.sort()\n",
    "    \n",
    "    for path_sim in list_sim:\n",
    "        print(\"Pairs\")\n",
    "        filename_sim = os.path.basename(path_sim)[:]\n",
    "        filename_sim = filename_sim[:filename_sim.find(\".\")]\n",
    "        print(\"A:\", filename_ori)\n",
    "        print(\"B:\", filename_sim)\n",
    "                \n",
    "        data_sim = maxmin_norm(nib.load(path_sim).get_fdata())\n",
    "        cycleGAN_generator(dataA=data_ori, dataB=data_sim,\n",
    "                           name_dataset=name_dataset, n_slice=n_slice, name_tag=filename_sim)\n",
    "        \n",
    "    print(\"------------------------------------------------------------------------\")\n",
    "        \n",
    "        \n",
    "        \n",
    "#         data_ori = nib.load(path_ori).get_fdata()\n",
    "#         norm_ori = maxmin_norm(data_ori)*255\n",
    "#         sliced_save(data=norm_ori,\n",
    "#                     name_tag=os.path.basename(path_ori)[:-4],\n",
    "#                     path2save=\"./pytorch-CycleGAN-and-pix2pix/datasets/\"+name_dataset+\"/\"+folder_name+\"/\",\n",
    "#                     n_slice=n_slice)"
   ]
  },
  {
   "cell_type": "code",
   "execution_count": null,
   "metadata": {},
   "outputs": [],
   "source": []
  },
  {
   "cell_type": "code",
   "execution_count": null,
   "metadata": {},
   "outputs": [],
   "source": []
  },
  {
   "cell_type": "code",
   "execution_count": null,
   "metadata": {},
   "outputs": [],
   "source": []
  },
  {
   "cell_type": "code",
   "execution_count": 25,
   "metadata": {},
   "outputs": [
    {
     "name": "stdout",
     "output_type": "stream",
     "text": [
      "[[1. 1. 1.]\n",
      " [1. 1. 1.]\n",
      " [1. 1. 1.]]\n"
     ]
    }
   ],
   "source": [
    "A = np.ones((3,3))\n",
    "print(A)"
   ]
  },
  {
   "cell_type": "code",
   "execution_count": 26,
   "metadata": {},
   "outputs": [
    {
     "name": "stdout",
     "output_type": "stream",
     "text": [
      "[[8. 8. 8.]\n",
      " [8. 8. 8.]\n",
      " [8. 8. 8.]]\n"
     ]
    }
   ],
   "source": [
    "B = np.ones((3,3))*8\n",
    "print(B)"
   ]
  },
  {
   "cell_type": "code",
   "execution_count": 27,
   "metadata": {},
   "outputs": [
    {
     "name": "stdout",
     "output_type": "stream",
     "text": [
      "[[1. 1. 1.]\n",
      " [1. 1. 1.]\n",
      " [1. 1. 1.]\n",
      " [8. 8. 8.]\n",
      " [8. 8. 8.]\n",
      " [8. 8. 8.]]\n"
     ]
    }
   ],
   "source": [
    "C = np.zeros((6,3))\n",
    "C[:3,:]=A\n",
    "C[3:,:]=B\n",
    "print(C)"
   ]
  },
  {
   "cell_type": "code",
   "execution_count": 20,
   "metadata": {},
   "outputs": [
    {
     "name": "stdout",
     "output_type": "stream",
     "text": [
      "[[1. 1. 1.]\n",
      " [1. 1. 1.]]\n",
      "[[1. 1. 1. 1. 1. 1.]\n",
      " [1. 1. 1. 1. 1. 1.]\n",
      " [1. 1. 1. 1. 1. 1.]\n",
      " [1. 1. 1. 1. 1. 1.]]\n"
     ]
    }
   ],
   "source": [
    "a = np.ones((2,3))\n",
    "print(a)\n",
    "b = zoom(a, 2)\n",
    "print(b)"
   ]
  },
  {
   "cell_type": "code",
   "execution_count": null,
   "metadata": {},
   "outputs": [],
   "source": []
  }
 ],
 "metadata": {
  "kernelspec": {
   "display_name": "Python 3",
   "language": "python",
   "name": "python3"
  },
  "language_info": {
   "codemirror_mode": {
    "name": "ipython",
    "version": 3
   },
   "file_extension": ".py",
   "mimetype": "text/x-python",
   "name": "python",
   "nbconvert_exporter": "python",
   "pygments_lexer": "ipython3",
   "version": "3.7.5"
  }
 },
 "nbformat": 4,
 "nbformat_minor": 2
}
